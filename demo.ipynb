{
 "cells": [
  {
   "cell_type": "code",
   "execution_count": null,
   "id": "947b1623",
   "metadata": {},
   "outputs": [],
   "source": [
    "import mercury as mr\n",
    "app = mr.App(title=\"Hello demo 👋\", description=\"Hello demo with Text widget\", show_code=True)\n"
   ]
  },
  {
   "cell_type": "markdown",
   "id": "e5462d1e",
   "metadata": {},
   "source": [
    "# Mercury demo 👋\n",
    "\n",
    "Share your notebooks with everyone thanks to Mercury framework!\n",
    "\n",
    "Please write your name in the left side bar and press **Enter** ⌨️ \n",
    "\n",
    "The notebook will be automatically recomputed. Only cells with widget definition and below are recomputed. That's why it is fast!\n",
    "\n",
    "You can download executed notebook as HTML or PDF (just click in the left side bar).\n",
    "\n",
    "You can edit this notebook in the Jupyter Notebook, and changes will appear instantly in the Mercury.\n"
   ]
  },
  {
   "cell_type": "code",
   "execution_count": null,
   "id": "b2add5e7",
   "metadata": {},
   "outputs": [],
   "source": [
    "name = mr.Text(label=\"What is you name?\", value=\"Piotr\")"
   ]
  },
  {
   "cell_type": "code",
   "execution_count": null,
   "id": "0276ab2a",
   "metadata": {},
   "outputs": [],
   "source": [
    "mr.Markdown(f\"\"\"## Hello {name.value}! \n",
    "\n",
    "For more examples please check our documentation at <a href=\"https://runmercury.com\" target=\"_blank\">RunMercury.com<a> 📚\n",
    "\"\"\")"
   ]
  }
 ],
 "metadata": {
  "kernelspec": {
   "display_name": "Python 3 (ipykernel)",
   "language": "python",
   "name": "python3"
  },
  "language_info": {
   "codemirror_mode": {
    "name": "ipython",
    "version": 3
   },
   "file_extension": ".py",
   "mimetype": "text/x-python",
   "name": "python",
   "nbconvert_exporter": "python",
   "pygments_lexer": "ipython3",
   "version": "3.11.6"
  }
 },
 "nbformat": 4,
 "nbformat_minor": 5
}
