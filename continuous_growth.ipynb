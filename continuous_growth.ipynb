{
 "cells": [
  {
   "cell_type": "code",
   "execution_count": 1,
   "id": "38075c3a",
   "metadata": {
    "ExecuteTime": {
     "end_time": "2023-11-13T22:25:20.497400Z",
     "start_time": "2023-11-13T22:25:20.492600Z"
    }
   },
   "outputs": [],
   "source": [
    "\"\"\"\n",
    "This program generates graphs showing continuous growth. \n",
    "\"\"\"\n",
    "import simpy\n",
    "import matplotlib.pyplot as plt\n",
    "import numpy as np\n",
    "# import aux"
   ]
  },
  {
   "cell_type": "code",
   "execution_count": 2,
   "id": "b2e185e0fffd0513",
   "metadata": {
    "ExecuteTime": {
     "end_time": "2023-11-13T22:25:24.883757Z",
     "start_time": "2023-11-13T22:25:24.871560Z"
    },
    "collapsed": false,
    "jupyter": {
     "outputs_hidden": false
    }
   },
   "outputs": [],
   "source": [
    "import mercury as mr"
   ]
  },
  {
   "cell_type": "code",
   "execution_count": 3,
   "id": "e9e4ea56a5682150",
   "metadata": {
    "ExecuteTime": {
     "end_time": "2023-11-13T21:11:54.240671Z",
     "start_time": "2023-11-13T21:11:54.218408Z"
    },
    "collapsed": false,
    "jupyter": {
     "outputs_hidden": false
    }
   },
   "outputs": [
    {
     "data": {
      "application/mercury+json": "{\n    \"widget\": \"App\",\n    \"title\": \"Continuous Growth!\",\n    \"description\": \"Slider demo\",\n    \"show_code\": false,\n    \"show_prompt\": false,\n    \"output\": \"app\",\n    \"schedule\": \"\",\n    \"notify\": \"{}\",\n    \"continuous_update\": true,\n    \"static_notebook\": false,\n    \"show_sidebar\": true,\n    \"full_screen\": true,\n    \"allow_download\": true,\n    \"stop_on_error\": false,\n    \"model_id\": \"mercury-app\",\n    \"code_uid\": \"App.0.40.25.1-rand5c268854\"\n}",
      "text/html": [
       "<h3>Mercury Application</h3><small>This output won't appear in the web app.</small>"
      ],
      "text/plain": [
       "mercury.App"
      ]
     },
     "metadata": {},
     "output_type": "display_data"
    }
   ],
   "source": [
    "app = mr.App(title=\"Continuous Growth!\", description=\"Slider demo\", show_code=False)"
   ]
  },
  {
   "cell_type": "code",
   "execution_count": 4,
   "id": "81d022ad775f4a0c",
   "metadata": {
    "ExecuteTime": {
     "end_time": "2023-11-14T14:57:42.186331Z",
     "start_time": "2023-11-14T14:57:42.177928Z"
    },
    "collapsed": false,
    "jupyter": {
     "outputs_hidden": false
    }
   },
   "outputs": [],
   "source": [
    "\"\"\"\n",
    "Plot graphs with more readable xlims and ylims.\n",
    "Parameters:\n",
    "    time_x(list(ints)): The x values for the graph.\n",
    "    gaussian_y(list(floats)): The y values for the graph.\n",
    "\"\"\"\n",
    "def lim_plots(time_x, gaussian_y):\n",
    "    fig, ax = plt.subplots(figsize=(12, 6))\n",
    "    x = time_x\n",
    "    y = gaussian_y\n",
    "    ax.plot(y)\n",
    "    #the x axis should show 0 through time\n",
    "    plt.xlim([0, len(time_x)-1])\n",
    "    #the y axis shows twice the highest y value\n",
    "    plt.ylim([0, max(gaussian_y) * 2])\n",
    "    plt.xlabel(\"Time\")\n",
    "    plt.ylabel(\"Requests\")\n",
    "    plt.show()\n",
    "    \n"
   ]
  },
  {
   "cell_type": "code",
   "execution_count": 5,
   "id": "3e44efa516d19bb9",
   "metadata": {
    "ExecuteTime": {
     "end_time": "2023-11-14T14:57:52.578712Z",
     "start_time": "2023-11-14T14:57:52.569128Z"
    },
    "collapsed": false,
    "jupyter": {
     "outputs_hidden": false
    }
   },
   "outputs": [],
   "source": [
    "\"\"\"\n",
    "Parameters:\n",
    "    mean(int): The mean of the distribution.\n",
    "    sd(int): The standard deviation of the distribution.\n",
    "    time(int): The number of points to generate.\n",
    "    new_dist(list(lists)): The new distribution to follow. Should be in this form.\n",
    "    [[end1,freq1], [end2,freq2]...] The first entry in the list should be the percentage of the graph this section of the distribution will go up to, and the second should be the probability that any random point generated with this distribution falls within that sections of the graph. For example, a distribution of [[0.5, 0.9], [1, 0.1]] will have 90% of points fall within the first half of the graph and 10% of points fall within the second half.  \n",
    "Returns: \n",
    "    requests_y(list(floats)): a series of randomly generated numbers along said distribution.\n",
    "\"\"\"\n",
    "def unique_norm(middle, sd, time, custom_dist):\n",
    "    #based off of the usual range of standard deviations: approximate, however.\n",
    "    start = middle - sd * 4\n",
    "    end = middle + sd * 4\n",
    "    requests_y = []\n",
    "    #for each point\n",
    "    for i in range(time):\n",
    "        rand_num = np.random.random()\n",
    "        #the total number that rand_num must be below in order to fall into a certain probability block\n",
    "        freq_sum = 0\n",
    "        #for each of the distribution's blocks of probability\n",
    "        for freq in range(len(custom_dist)):\n",
    "            #ensures upper bound of probability is always increased\n",
    "            #that way all points will eventually be added (because sum of all \n",
    "            freq_sum += custom_dist[freq][1]\n",
    "            #if the random number is less than that sum\n",
    "            if rand_num < freq_sum:\n",
    "                #determine the range of the point's actual value\n",
    "                upper_bound = start + ((abs(end)-start)*custom_dist[freq][0])\n",
    "                #if this is the first probability block\n",
    "                if freq == 0:\n",
    "                    #then the range will be from 0 to the upper_bound\n",
    "                    requests_y.append(np.random.uniform(start, upper_bound))\n",
    "                    #exit this loop so it is not added again\n",
    "                    break\n",
    "                else:\n",
    "                    requests_y.append(np.random.uniform(custom_dist[freq-1][0], upper_bound))\n",
    "                    break\n",
    "        #if we've reached the number of points requested\n",
    "        if len(requests_y) == time:\n",
    "            #leave loop\n",
    "            break\n",
    "    return requests_y"
   ]
  },
  {
   "cell_type": "code",
   "execution_count": 6,
   "id": "4a3151db",
   "metadata": {
    "ExecuteTime": {
     "end_time": "2023-11-14T14:57:56.923241Z",
     "start_time": "2023-11-14T14:57:56.911987Z"
    }
   },
   "outputs": [],
   "source": [
    "\"\"\"\n",
    "Generates a graph that shows continuously increasing requests over time, with some fluctuations. By default will\n",
    "select these variations from a normal distribution, though a custom distribution can be added using the \n",
    "custom_dist parameter. Exponential growth can be controlled with the exp parameter, and will result in the\n",
    "actual growth being larger than projected (i.e, through growth * start parameters) growth. \n",
    "Parameters:\n",
    "    gauss_mean(int): The mean for the distribution. Should usually be 0 to maintain start/growth proportions\n",
    "    gauss_sd(int): The standard deviation for gaussian distribution. The higher this is the more 'random' result will seem\n",
    "    start(int): The starting value\n",
    "    growth(int): The approximate proportion of growth (i.e, if start = 5 and growth = 2, end will be about 10)\n",
    "    exp(float): the exponent for growth (as y = x^exp)\n",
    "    time(int): the x axis and the number of points to be generated.\n",
    "    custom_dist(list(lists): A list of two-entry lists that describe a custom distribution. For further details, see the\n",
    "    readme, or the unique_norm function in aux.py. Defaults to None, or a normal distribution. \n",
    "    graph(boolean): Whether to show a graph of time vs. generated distribution, default True\n",
    "Returns: \n",
    "    continuous_y(list(float)): The generated distribution.\n",
    "\"\"\"\n",
    "def generate_continuous(gauss_mean, gauss_sd, time, start, growth, exp, custom_dist = None, graph = True):\n",
    "    difference = (start * growth) - start \n",
    "    #base_growth is the approximate amount each step will grow by\n",
    "    base_growth = difference / time\n",
    "    continuous_y = [start]\n",
    "    time_x = [0]\n",
    "    \n",
    "    #for time number of points, create a random number from a gaussian distribution.\n",
    "    #then determine the approximate next point before adding the random number and appending it to the y list\n",
    "    if not custom_dist:\n",
    "        for i in range(time-1):\n",
    "            variation = np.random.normal(gauss_mean, gauss_sd)\n",
    "            next = np.power(continuous_y[i] + base_growth + variation, exp)\n",
    "            continuous_y.append(next)\n",
    "            time_x.append(i)\n",
    "    else:\n",
    "        for i in range(time-1):\n",
    "            variation = unique_norm(gauss_mean, gauss_sd, 1, custom_dist)[0]\n",
    "            next = continuous_y[i] + np.power(abs(base_growth + variation), exp)\n",
    "            continuous_y.append(next)\n",
    "            time_x.append(i)\n",
    "    \n",
    "    if graph: \n",
    "        plt.plot(time_x, continuous_y) \n"
   ]
  },
  {
   "cell_type": "code",
   "execution_count": 7,
   "id": "a8d389888b844b68",
   "metadata": {
    "ExecuteTime": {
     "end_time": "2023-11-14T14:58:02.608613Z",
     "start_time": "2023-11-14T14:58:02.516843Z"
    },
    "collapsed": false,
    "jupyter": {
     "outputs_hidden": false
    }
   },
   "outputs": [
    {
     "data": {
      "application/mercury+json": "{\n    \"widget\": \"Slider\",\n    \"value\": 1,\n    \"min\": 0,\n    \"max\": 10,\n    \"step\": 1,\n    \"label\": \"Exponent 1\",\n    \"model_id\": \"b075f822e3bc46a69f497fd7c20b0840\",\n    \"code_uid\": \"Slider.0.40.36.2-randec761e83\",\n    \"url_key\": \"\",\n    \"disabled\": false,\n    \"hidden\": false\n}",
      "application/vnd.jupyter.widget-view+json": {
       "model_id": "b075f822e3bc46a69f497fd7c20b0840",
       "version_major": 2,
       "version_minor": 0
      },
      "text/plain": [
       "mercury.Slider"
      ]
     },
     "metadata": {},
     "output_type": "display_data"
    },
    {
     "data": {
      "application/mercury+json": "{\n    \"widget\": \"Slider\",\n    \"value\": 1,\n    \"min\": 0,\n    \"max\": 10,\n    \"step\": 1,\n    \"label\": \"Exponent 2\",\n    \"model_id\": \"d215b006e88b42058207c09911d32b09\",\n    \"code_uid\": \"Slider.0.40.36.3-rand8ee2ebe0\",\n    \"url_key\": \"\",\n    \"disabled\": false,\n    \"hidden\": false\n}",
      "application/vnd.jupyter.widget-view+json": {
       "model_id": "d215b006e88b42058207c09911d32b09",
       "version_major": 2,
       "version_minor": 0
      },
      "text/plain": [
       "mercury.Slider"
      ]
     },
     "metadata": {},
     "output_type": "display_data"
    }
   ],
   "source": [
    "# exponent = mr.Slider(label=\"Exponent\", value=1.0003, min=1, max=1.001)\n",
    "exponent1 = mr.Slider(label=\"Exponent 1\", value=1, min=0, max=10)\n",
    "exponent2 = mr.Slider(label=\"Exponent 2\", value=1, min=0, max=10)"
   ]
  },
  {
   "cell_type": "code",
   "execution_count": 8,
   "id": "2d2fa46a",
   "metadata": {
    "ExecuteTime": {
     "end_time": "2023-11-14T15:01:01.681803Z",
     "start_time": "2023-11-14T15:01:01.478331Z"
    }
   },
   "outputs": [
    {
     "data": {
      "image/png": "[encoded data removed]",
      "text/plain": [
       "<Figure size 640x480 with 1 Axes>"
      ]
     },
     "metadata": {},
     "output_type": "display_data"
    }
   ],
   "source": [
    "# generate_continuous(0, 2, 365, 1000, 2, 1)\n",
    "generate_continuous(0, 2, 365, 1000, 2, exponent1.value)\n",
    "generate_continuous(0, 2, 365, 1000, 2, 1, [[0.5, 0.5],[1, 0.5]])\n",
    "# generate_continuous(0, 5, 365, 1000, 2, 1.0003)\n",
    "generate_continuous(0, 5, 365, 1000, 2, exponent2.value)"
   ]
  },
  {
   "cell_type": "code",
   "execution_count": null,
   "id": "b2a427bc623f0809",
   "metadata": {
    "collapsed": false,
    "jupyter": {
     "outputs_hidden": false
    }
   },
   "outputs": [],
   "source": []
  }
 ],
 "metadata": {
  "kernelspec": {
   "display_name": "Python 3 (ipykernel)",
   "language": "python",
   "name": "python3"
  },
  "language_info": {
   "codemirror_mode": {
    "name": "ipython",
    "version": 3
   },
   "file_extension": ".py",
   "mimetype": "text/x-python",
   "name": "python",
   "nbconvert_exporter": "python",
   "pygments_lexer": "ipython3",
   "version": "3.11.4"
  },
  "vscode": {
   "interpreter": {
    "hash": "aee8b7b246df8f9039afb4144a1f6fd8d2ca17a180786b69acc140d282b71a49"
   }
  }
 },
 "nbformat": 4,
 "nbformat_minor": 5
}
