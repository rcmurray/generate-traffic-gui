{
 "cells": [
  {
   "cell_type": "code",
   "execution_count": 1,
   "id": "initial_id",
   "metadata": {
    "ExecuteTime": {
     "end_time": "2023-11-13T19:45:26.981161Z",
     "start_time": "2023-11-13T19:45:24.606906Z"
    }
   },
   "outputs": [],
   "source": [
    "import mercury as mr # for widgets\n",
    "import random # for random data generation\n",
    "from matplotlib import pyplot as plt # for chart"
   ]
  },
  {
   "cell_type": "code",
   "execution_count": 2,
   "id": "9cc557ce9c8167f3",
   "metadata": {
    "ExecuteTime": {
     "end_time": "2023-11-13T19:45:31.543166Z",
     "start_time": "2023-11-13T19:45:31.297827Z"
    },
    "collapsed": false,
    "jupyter": {
     "outputs_hidden": false
    }
   },
   "outputs": [
    {
     "data": {
      "application/mercury+json": "{\n    \"widget\": \"App\",\n    \"title\": \"Hello in Mercury!\",\n    \"description\": \"Samples app in Mercury\",\n    \"show_code\": false,\n    \"show_prompt\": false,\n    \"output\": \"app\",\n    \"schedule\": \"\",\n    \"notify\": \"{}\",\n    \"continuous_update\": true,\n    \"static_notebook\": false,\n    \"show_sidebar\": true,\n    \"full_screen\": true,\n    \"allow_download\": true,\n    \"stop_on_error\": false,\n    \"model_id\": \"mercury-app\",\n    \"code_uid\": \"App.0.40.25.1-randa08be41d\"\n}",
      "text/html": [
       "<h3>Mercury Application</h3><small>This output won't appear in the web app.</small>"
      ],
      "text/plain": [
       "mercury.App"
      ]
     },
     "metadata": {},
     "output_type": "display_data"
    }
   ],
   "source": [
    "app = mr.App(title=\"Hello in Mercury!\", description=\"Samples app in Mercury\", show_code=False)"
   ]
  },
  {
   "cell_type": "code",
   "execution_count": 3,
   "id": "5bfad783c7f91da3",
   "metadata": {
    "collapsed": false,
    "jupyter": {
     "outputs_hidden": false
    }
   },
   "outputs": [],
   "source": [
    "# Hello in Mercury! 👋"
   ]
  },
  {
   "cell_type": "code",
   "execution_count": 4,
   "id": "7eb5610b30cd81b5",
   "metadata": {
    "ExecuteTime": {
     "end_time": "2023-11-13T19:45:37.687700Z",
     "start_time": "2023-11-13T19:45:37.589994Z"
    },
    "collapsed": false,
    "jupyter": {
     "outputs_hidden": false
    }
   },
   "outputs": [
    {
     "data": {
      "application/mercury+json": "{\n    \"widget\": \"Text\",\n    \"value\": \"Chas\",\n    \"rows\": 1,\n    \"label\": \"What is your name?\",\n    \"model_id\": \"7053c9516ac94b7dad564f68c4d42ea0\",\n    \"code_uid\": \"Text.0.40.15.1-randceb3eebb\",\n    \"url_key\": \"\",\n    \"disabled\": false,\n    \"hidden\": false\n}",
      "application/vnd.jupyter.widget-view+json": {
       "model_id": "7053c9516ac94b7dad564f68c4d42ea0",
       "version_major": 2,
       "version_minor": 0
      },
      "text/plain": [
       "mercury.Text"
      ]
     },
     "metadata": {},
     "output_type": "display_data"
    },
    {
     "data": {
      "application/mercury+json": "{\n    \"widget\": \"Slider\",\n    \"value\": 75,\n    \"min\": 50,\n    \"max\": 100,\n    \"step\": 1,\n    \"label\": \"Number of points\",\n    \"model_id\": \"f86e0f099aa84366a3029c77ac597556\",\n    \"code_uid\": \"Slider.0.40.36.2-rande6838b7b\",\n    \"url_key\": \"\",\n    \"disabled\": false,\n    \"hidden\": false\n}",
      "application/vnd.jupyter.widget-view+json": {
       "model_id": "f86e0f099aa84366a3029c77ac597556",
       "version_major": 2,
       "version_minor": 0
      },
      "text/plain": [
       "mercury.Slider"
      ]
     },
     "metadata": {},
     "output_type": "display_data"
    },
    {
     "data": {
      "application/mercury+json": "{\n    \"widget\": \"Select\",\n    \"value\": \"blue\",\n    \"choices\": [\n        \"red\",\n        \"green\",\n        \"blue\"\n    ],\n    \"label\": \"Select color\",\n    \"model_id\": \"396ffc12493d400db0918ea61afb61e7\",\n    \"code_uid\": \"Select.0.40.16.3-rand7d621327\",\n    \"url_key\": \"\",\n    \"disabled\": false,\n    \"hidden\": false\n}",
      "application/vnd.jupyter.widget-view+json": {
       "model_id": "396ffc12493d400db0918ea61afb61e7",
       "version_major": 2,
       "version_minor": 0
      },
      "text/plain": [
       "mercury.Select"
      ]
     },
     "metadata": {},
     "output_type": "display_data"
    }
   ],
   "source": [
    "name = mr.Text(label=\"What is your name?\", value=\"Chas\")\n",
    "points = mr.Slider(label=\"Number of points\", value=75, min=50, max=100)\n",
    "color = mr.Select(label=\"Select color\", value=\"blue\", choices=[\"red\", \"green\", \"blue\"])"
   ]
  },
  {
   "cell_type": "code",
   "execution_count": 5,
   "id": "9caaab938e261593",
   "metadata": {
    "ExecuteTime": {
     "end_time": "2023-11-13T19:45:43.407187Z",
     "start_time": "2023-11-13T19:45:43.399209Z"
    },
    "collapsed": false,
    "jupyter": {
     "outputs_hidden": false
    }
   },
   "outputs": [
    {
     "data": {
      "text/markdown": [
       "## How are you Chas?\n",
       "You can mix Python code and Markdown."
      ],
      "text/plain": [
       "<IPython.core.display.Markdown object>"
      ]
     },
     "metadata": {},
     "output_type": "display_data"
    }
   ],
   "source": [
    "mr.Md(f\"\"\"## How are you {name.value}?\n",
    "You can mix Python code and Markdown.\"\"\")"
   ]
  },
  {
   "cell_type": "code",
   "execution_count": 6,
   "id": "2a77e2889a5ba6de",
   "metadata": {
    "ExecuteTime": {
     "end_time": "2023-11-13T19:45:54.877642Z",
     "start_time": "2023-11-13T19:45:54.378052Z"
    },
    "collapsed": false,
    "jupyter": {
     "outputs_hidden": false
    }
   },
   "outputs": [
    {
     "data": {
      "image/png": "[encoded data removed]",
      "text/plain": [
       "<Figure size 640x480 with 1 Axes>"
      ]
     },
     "metadata": {},
     "output_type": "display_data"
    }
   ],
   "source": [
    "x = [random.gauss(0,1) for _ in range(points.value)]\n",
    "y = [random.gauss(0,1) for _ in range(points.value)]\n",
    "_ = plt.plot(x,y, '*', markersize=14, color=color.value)\n",
    "_ = plt.title(f\"Plot for {name.value}\")"
   ]
  }
 ],
 "metadata": {
  "kernelspec": {
   "display_name": "Python 3 (ipykernel)",
   "language": "python",
   "name": "python3"
  },
  "language_info": {
   "codemirror_mode": {
    "name": "ipython",
    "version": 3
   },
   "file_extension": ".py",
   "mimetype": "text/x-python",
   "name": "python",
   "nbconvert_exporter": "python",
   "pygments_lexer": "ipython3",
   "version": "3.11.4"
  }
 },
 "nbformat": 4,
 "nbformat_minor": 5
}
