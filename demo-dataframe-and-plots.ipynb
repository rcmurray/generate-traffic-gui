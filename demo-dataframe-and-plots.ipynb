{
 "cells": [
  {
   "cell_type": "code",
   "execution_count": null,
   "id": "b77cab56",
   "metadata": {},
   "outputs": [],
   "source": [
    "import pandas as pd\n",
    "import numpy as np\n",
    "from matplotlib import pyplot as plt"
   ]
  },
  {
   "cell_type": "code",
   "execution_count": null,
   "id": "13349c40",
   "metadata": {},
   "outputs": [],
   "source": [
    "import mercury as mr"
   ]
  },
  {
   "cell_type": "code",
   "execution_count": null,
   "id": "8c4d4e67",
   "metadata": {},
   "outputs": [],
   "source": [
    "# control app with App class\n",
    "app = mr.App(title=\"DataFrame & Plots 🚀\", description=\"Showcase of Mercury Widgets\", show_code = False)"
   ]
  },
  {
   "cell_type": "markdown",
   "id": "0182d5fd",
   "metadata": {},
   "source": [
    "# DataFrame and Plots 🎲📊\n",
    "\n",
    "Share your notebooks with everyone thanks to Mercury framework.\n",
    "\n",
    "Please change number of samples and number of features in the left side bar. Notebook will be recomputed after widget change."
   ]
  },
  {
   "cell_type": "code",
   "execution_count": null,
   "id": "60661388",
   "metadata": {},
   "outputs": [],
   "source": [
    "samples = mr.Slider(label=\"Number of samples\", min=50, max=100, value=75)\n",
    "features = mr.Select(label=\"Number of features\", choices=[\"5\", \"10\", \"15\"], value=\"10\")"
   ]
  },
  {
   "cell_type": "code",
   "execution_count": null,
   "id": "fda294e9",
   "metadata": {},
   "outputs": [],
   "source": [
    "data = {}\n",
    "for i in range(int(features.value)):\n",
    "    data[f\"Feature {i}\"] = np.random.rand(samples.value)\n",
    "df = pd.DataFrame(data)"
   ]
  },
  {
   "cell_type": "markdown",
   "id": "a3a90505",
   "metadata": {},
   "source": [
    "## Random data 🎲"
   ]
  },
  {
   "cell_type": "code",
   "execution_count": null,
   "id": "001bc12e",
   "metadata": {},
   "outputs": [],
   "source": [
    "df"
   ]
  },
  {
   "cell_type": "markdown",
   "id": "bbfdcc70",
   "metadata": {},
   "source": [
    "## Scatter plot 📈"
   ]
  },
  {
   "cell_type": "code",
   "execution_count": null,
   "id": "9da9bc6f",
   "metadata": {},
   "outputs": [],
   "source": [
    "_ = plt.plot(df[\"Feature 1\"], df[\"Feature 2\"], '*')"
   ]
  },
  {
   "cell_type": "markdown",
   "id": "e3ea616a",
   "metadata": {},
   "source": [
    "## Random data histogram 📊"
   ]
  },
  {
   "cell_type": "code",
   "execution_count": null,
   "id": "ef557700",
   "metadata": {},
   "outputs": [],
   "source": [
    "_ = plt.hist(df[\"Feature 1\"], bins=40)"
   ]
  }
 ],
 "metadata": {
  "kernelspec": {
   "display_name": "Python 3 (ipykernel)",
   "language": "python",
   "name": "python3"
  },
  "language_info": {
   "codemirror_mode": {
    "name": "ipython",
    "version": 3
   },
   "file_extension": ".py",
   "mimetype": "text/x-python",
   "name": "python",
   "nbconvert_exporter": "python",
   "pygments_lexer": "ipython3",
   "version": "3.11.6"
  }
 },
 "nbformat": 4,
 "nbformat_minor": 5
}
