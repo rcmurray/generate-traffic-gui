{
 "cells": [
  {
   "cell_type": "code",
   "execution_count": 1,
   "id": "26516964",
   "metadata": {
    "ExecuteTime": {
     "end_time": "2023-11-14T15:51:02.209479Z",
     "start_time": "2023-11-14T15:51:02.204136Z"
    }
   },
   "outputs": [],
   "source": [
    "\"\"\"\n",
    "This program generates graphs with regular cycles.\n",
    "\"\"\"\n",
    "import simpy\n",
    "import matplotlib.pyplot as plt\n",
    "import numpy as np\n",
    "from random import randint\n",
    "# import aux\n"
   ]
  },
  {
   "cell_type": "code",
   "execution_count": 2,
   "id": "a7314148-f3d8-43a5-b62b-737b9ef5be88",
   "metadata": {},
   "outputs": [
    {
     "data": {
      "application/mercury+json": "{\n    \"widget\": \"App\",\n    \"title\": \"Cycles!\",\n    \"description\": \"Slider demo\",\n    \"show_code\": false,\n    \"show_prompt\": false,\n    \"output\": \"app\",\n    \"schedule\": \"\",\n    \"notify\": \"{}\",\n    \"continuous_update\": true,\n    \"static_notebook\": false,\n    \"show_sidebar\": true,\n    \"full_screen\": true,\n    \"allow_download\": true,\n    \"stop_on_error\": false,\n    \"model_id\": \"mercury-app\",\n    \"code_uid\": \"App.0.40.25.2-randd334d884\"\n}",
      "text/html": [
       "<h3>Mercury Application</h3><small>This output won't appear in the web app.</small>"
      ],
      "text/plain": [
       "mercury.App"
      ]
     },
     "metadata": {},
     "output_type": "display_data"
    }
   ],
   "source": [
    "import mercury as mr\n",
    "app = mr.App(title=\"Cycles!\", description=\"Slider demo\", show_code=False)"
   ]
  },
  {
   "cell_type": "code",
   "execution_count": 3,
   "id": "75c45cf4-a220-43bd-975a-aa2a90fd4a27",
   "metadata": {},
   "outputs": [
    {
     "data": {
      "application/mercury+json": "{\n    \"widget\": \"Slider\",\n    \"value\": 576,\n    \"min\": 0,\n    \"max\": 10000,\n    \"step\": 1,\n    \"label\": \"Time\",\n    \"model_id\": \"0cf490ec097b4270bbe078be4bd3609d\",\n    \"code_uid\": \"Slider.0.40.36.1-randb942879d\",\n    \"url_key\": \"\",\n    \"disabled\": false,\n    \"hidden\": false\n}",
      "application/vnd.jupyter.widget-view+json": {
       "model_id": "0cf490ec097b4270bbe078be4bd3609d",
       "version_major": 2,
       "version_minor": 0
      },
      "text/plain": [
       "mercury.Slider"
      ]
     },
     "metadata": {},
     "output_type": "display_data"
    }
   ],
   "source": [
    "time = mr.Slider(label=\"Time\", value=576, min=0, max=10000)"
   ]
  },
  {
   "cell_type": "code",
   "execution_count": 4,
   "id": "9277e27b-4217-437c-81db-70b81f2ba507",
   "metadata": {},
   "outputs": [],
   "source": [
    "\"\"\"\n",
    "Plot graphs with more readable xlims and ylims.\n",
    "Parameters:\n",
    "    time_x(list(ints)): The x values for the graph.\n",
    "    gaussian_y(list(floats)): The y values for the graph.\n",
    "\"\"\"\n",
    "def lim_plots(time_x, gaussian_y):\n",
    "    fig, ax = plt.subplots(figsize=(12, 6))\n",
    "    x = time_x\n",
    "    y = gaussian_y\n",
    "    ax.plot(y)\n",
    "    #the x axis should show 0 through time\n",
    "    plt.xlim([0, len(time_x)-1])\n",
    "    #the y axis shows twice the highest y value\n",
    "    plt.ylim([0, max(gaussian_y) * 2])\n",
    "    plt.xlabel(\"Time\")\n",
    "    plt.ylabel(\"Requests\")\n",
    "    plt.show()"
   ]
  },
  {
   "cell_type": "code",
   "execution_count": 5,
   "id": "2fe126b5-4e10-4fc7-b302-e71a8d269283",
   "metadata": {},
   "outputs": [],
   "source": [
    "\"\"\"\n",
    "Parameters:\n",
    "    mean(int): The mean of the distribution.\n",
    "    sd(int): The standard deviation of the distribution.\n",
    "    time(int): The number of points to generate.\n",
    "    new_dist(list(lists)): The new distribution to follow. Should be in this form.\n",
    "    [[end1,freq1], [end2,freq2]...] The first entry in the list should be the percentage of the graph this section of the distribution will go up to, and the second should be the probability that any random point generated with this distribution falls within that sections of the graph. For example, a distribution of [[0.5, 0.9], [1, 0.1]] will have 90% of points fall within the first half of the graph and 10% of points fall within the second half.  \n",
    "Returns: \n",
    "    requests_y(list(floats)): a series of randomly generated numbers along said distribution.\n",
    "\"\"\"\n",
    "def unique_norm(middle, sd, time, custom_dist):\n",
    "    #based off of the usual range of standard deviations: approximate, however.\n",
    "    start = middle - sd * 4\n",
    "    end = middle + sd * 4\n",
    "    requests_y = []\n",
    "    #for each point\n",
    "    for i in range(time):\n",
    "        rand_num = np.random.random()\n",
    "        #the total number that rand_num must be below in order to fall into a certain probability block\n",
    "        freq_sum = 0\n",
    "        #for each of the distribution's blocks of probability\n",
    "        for freq in range(len(custom_dist)):\n",
    "            #ensures upper bound of probability is always increased\n",
    "            #that way all points will eventually be added (because sum of all \n",
    "            freq_sum += custom_dist[freq][1]\n",
    "            #if the random number is less than that sum\n",
    "            if rand_num < freq_sum:\n",
    "                #determine the range of the point's actual value\n",
    "                upper_bound = start + ((abs(end)-start)*custom_dist[freq][0])\n",
    "                #if this is the first probability block\n",
    "                if freq == 0:\n",
    "                    #then the range will be from 0 to the upper_bound\n",
    "                    requests_y.append(np.random.uniform(start, upper_bound))\n",
    "                    #exit this loop so it is not added again\n",
    "                    break\n",
    "                else:\n",
    "                    requests_y.append(np.random.uniform(custom_dist[freq-1][0], upper_bound))\n",
    "                    break\n",
    "        #if we've reached the number of points requested\n",
    "        if len(requests_y) == time:\n",
    "            #leave loop\n",
    "            break\n",
    "    return requests_y"
   ]
  },
  {
   "cell_type": "code",
   "execution_count": 6,
   "id": "4d32ae18",
   "metadata": {
    "ExecuteTime": {
     "end_time": "2023-11-14T15:51:08.750230Z",
     "start_time": "2023-11-14T15:51:08.279221Z"
    }
   },
   "outputs": [],
   "source": [
    "\"\"\"\n",
    "Generates a graph with cyclical patterns, i.e. with consistent periods of rising and falling. \n",
    "Parameters:\n",
    "    low_mean(int): The mean of a gaussian distribution to be used in the low part of cycle\n",
    "    low_sd(int): The standard deviation of a gaussian distribution to be used in the low part of cycle\n",
    "    high_mean(int): The mean of a gaussian distribution to be used in the high part of cycle\n",
    "    high_sd(int): The standard deviation of a gaussian distribution to be used in the high part of cycle\n",
    "    time(int): The number of points to be generated.\n",
    "    set_cycles(list(lists)): Set to None by default, under which it will create one random cycle.\n",
    "        To create other kind of cycles, set_cycles should be a list of 3-item lists with the cycle's start, high, and end points.\n",
    "        First entry in list is start of cycle, second is the high point of the cycle, third and final is last point of the cycle. \n",
    "    graph(bool): Whether to show a graph of time vs. generated distribution, default True\n",
    "    custom_dist(list(lists): A list of two-entry lists that describe a custom distribution. For further details, see the\n",
    "    readme, or the unique_norm function in aux.py. Defaults to None, or a normal distribution.\n",
    "Returns:\n",
    "    gaussian_y(list(floats)): The generated distribution.\n",
    "\"\"\"\n",
    "def cycles_gen(low_mean, low_sd, time, high_mean, high_sd, set_cycles = None, custom_dist = None, graph = True):\n",
    "    #Note: when 'cycle descriptor' is mentioned in this function, it refers to the three-entry list from\n",
    "    #which cycles are generated (see set_cycles description above)\n",
    "    time_x = [i for i in range(time)]\n",
    "    \n",
    "    #if there is not any set cycles, generate one random one.\n",
    "    if set_cycles == None:\n",
    "        rand_start = randint(0, time-1)\n",
    "        rand_end = randint(0, time-1)\n",
    "        #generate a high point between start and end, wrapping around if necessary\n",
    "        if rand_end > rand_start: rand_high = randint(rand_start, rand_end)\n",
    "        else: rand_high = randint(rand_start, rand_start + (rand_end % time))\n",
    "        #wrapping around\n",
    "        if rand_high > time:\n",
    "            rand_high = rand_high - time\n",
    "        #create the single cycle\n",
    "        set_cycles = [[rand_start, rand_high, rand_end]]\n",
    "    #create a dictionary of range of points to descriptor of cycle\n",
    "    print(set_cycles)\n",
    "    #create a dictionary for keeping track of the cycles. This dictionary will map all the points in a cycle\n",
    "    #to the descriptor that create them\n",
    "    highs = dict()\n",
    "    \n",
    "    #determine cycle high points\n",
    "    for cycle in set_cycles:\n",
    "        cycle_points = []\n",
    "        #if the start is less than the end, then add every point between them to the list of points\n",
    "        if cycle[0] <= cycle[2]:\n",
    "            for i in range(cycle[0], cycle[2]+1): cycle_points.append(i)\n",
    "        else: #this means it loops around to the beginning of the graph\n",
    "            #first add everything from start of cycle to end of time\n",
    "            for i in range(cycle[0], time): cycle_points.append(i)\n",
    "            #then, add everything from beginning of time to end to the highs\n",
    "            for i in range(cycle[2]+1): cycle_points.append(i)\n",
    "        #set as tuple so it can be a key    \n",
    "        cycle_points = tuple(cycle_points)\n",
    "        highs[cycle_points] = cycle\n",
    "                \n",
    "    #now to create distribution\n",
    "    gaussian_y = []\n",
    "    if not custom_dist:\n",
    "        for i in range(time):\n",
    "            \n",
    "            #points on the graph are influenced by the preceeding point (0.5 is arbitrary)\n",
    "            if i != 0: influence = gaussian_y[i-1] * 0.1\n",
    "            else: influence = 0\n",
    "                \n",
    "            #if the current point is in any of the values of highs, aka is in any of the cycles\n",
    "            if any(i in cycle_points for cycle_points in highs.keys()):\n",
    "                #for each of the lists of points in highs.keys()\n",
    "                for cycle_points in highs.keys():\n",
    "                    #if this is the cycle that i is present in\n",
    "                    if i in cycle_points:\n",
    "                        #retrieve the appropriate cycle descriptor\n",
    "                        cycle = highs[cycle_points]\n",
    "                        mean_dif = high_mean - low_mean\n",
    "                        #determine how far apart the cycles high point is from the start, and from the end\n",
    "                        #index used to account for wrapping around\n",
    "                        to_top = cycle_points.index(cycle[1]) - cycle_points.index(cycle[0])\n",
    "                        to_low = cycle_points.index(cycle[2]) - cycle_points.index(cycle[1])\n",
    "                        #if we at an earlier point than the top\n",
    "                        if cycle_points.index(i) < cycle_points.index(cycle[1]):\n",
    "                            position = cycle_points.index(i) - cycle_points.index(cycle[0])\n",
    "                            #set the mean to be the starting mean + the difference between the high and low mean,\n",
    "                            #divided by the distance between the highest point and the start of the cycle (i.e,\n",
    "                            #how far each 'step' should take you)\n",
    "                            #multiplied by how far you are into the cycle (i.e, how many steps you've taken)\n",
    "                            mean = low_mean + ((mean_dif / to_top) * position)\n",
    "                        else:\n",
    "                            #start position a 0 and increase and it gets closer to end point\n",
    "                            position = cycle_points.index(i) - cycle_points.index(cycle[1])\n",
    "                            mean = high_mean - ((mean_dif / to_low) * position)\n",
    "                        #next point is based off the mean created above\n",
    "                        next = np.random.normal(mean, high_sd) + influence\n",
    "            #if not in a cycle, simply use low_mean\n",
    "            else: next = np.random.normal(low_mean, low_sd) + influence\n",
    "            gaussian_y.append(next)\n",
    "                \n",
    "    else:\n",
    "        for i in range(time):\n",
    "            if i != 0: influence = gaussian_y[i-1] * 0.5\n",
    "            else: influence = 0\n",
    "            if i in highs: \n",
    "                next = unique_norm(high_mean, high_sd, 1, custom_dist)[0] + influence\n",
    "            else: next = unique_norm(low_mean, low_sd, 1, custom_dist)[0] + influence\n",
    "            gaussian_y.append(next)\n",
    "    \n",
    "    #add influence to first point now that final point is generated:\n",
    "    influence = gaussian_y[len(gaussian_y)-1] * 0.5\n",
    "    gaussian_y[0] = gaussian_y[0] + influence\n",
    "    \n",
    "    if graph: lim_plots(time_x, gaussian_y)"
   ]
  },
  {
   "cell_type": "code",
   "execution_count": 7,
   "id": "e9601ace",
   "metadata": {
    "ExecuteTime": {
     "end_time": "2023-11-14T15:51:13.722105Z",
     "start_time": "2023-11-14T15:51:13.716050Z"
    },
    "scrolled": true
   },
   "outputs": [
    {
     "name": "stdout",
     "output_type": "stream",
     "text": [
      "[[126, 203, 120]]\n"
     ]
    },
    {
     "data": {
      "image/png": "[encoded data removed]",
      "text/plain": [
       "<Figure size 1200x600 with 1 Axes>"
      ]
     },
     "metadata": {},
     "output_type": "display_data"
    }
   ],
   "source": [
    "# cycles_gen(200,5,time.value,400,5,[[120,150,192],[528,0,72]])\n",
    "# cycles_gen(200,5,time.value,400,5,[[12,14,18],[22,0,3]])\n",
    "# cycles_gen(2000,5,time.value,400,31,[[5,6,7],[12,13,14]],[19,20,21],[26,27,28])\n",
    "# cycles_gen(200,5,time.value,400,5)\n",
    "cycles_gen(200,5,time.value,400,5)\n",
    "\n",
    "#cycles_gen(200,5,576,400,5,[[120,150,192],[528,0,72]])\n",
    "#cycles_gen(200,5,24,400,5,[[12,14,18],[22,0,3]])\n",
    "#cycles_gen(2000,5,10000,400,31,[[5,6,7],[12,13,14]],[19,20,21],[26,27,28])\n",
    "#cycles_gen(200,5,576,400,5)\n",
    "#cycles_gen(200,5,24,400,5)"
   ]
  },
  {
   "cell_type": "code",
   "execution_count": null,
   "id": "62d75e34",
   "metadata": {
    "ExecuteTime": {
     "end_time": "2023-11-14T15:51:18.574436Z",
     "start_time": "2023-11-14T15:51:18.569525Z"
    }
   },
   "outputs": [],
   "source": []
  },
  {
   "cell_type": "code",
   "execution_count": null,
   "id": "c84a8f8e-1550-42db-a0aa-4d4e1fff8fa0",
   "metadata": {
    "ExecuteTime": {
     "end_time": "2023-11-14T15:51:25.085504Z",
     "start_time": "2023-11-14T15:51:25.074905Z"
    }
   },
   "outputs": [],
   "source": []
  }
 ],
 "metadata": {
  "kernelspec": {
   "display_name": "Python 3 (ipykernel)",
   "language": "python",
   "name": "python3"
  },
  "language_info": {
   "codemirror_mode": {
    "name": "ipython",
    "version": 3
   },
   "file_extension": ".py",
   "mimetype": "text/x-python",
   "name": "python",
   "nbconvert_exporter": "python",
   "pygments_lexer": "ipython3",
   "version": "3.11.4"
  }
 },
 "nbformat": 4,
 "nbformat_minor": 5
}
