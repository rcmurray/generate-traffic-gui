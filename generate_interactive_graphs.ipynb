{
 "cells": [
  {
   "cell_type": "code",
   "execution_count": 4,
   "id": "a4aa0228",
   "metadata": {
    "ExecuteTime": {
     "end_time": "2023-11-13T21:48:38.789413Z",
     "start_time": "2023-11-13T21:48:38.785338Z"
    },
    "tags": [
     "remove-input"
    ]
   },
   "outputs": [],
   "source": [
    "\"\"\"\n",
    "This is the main file that runs the simulation. The simulation is output within this file, and all code cells should\n",
    "be invisible to the user. \n",
    "\"\"\"\n",
    "import generate_gaussian as rg\n",
    "import continuous_growth as cog\n",
    "import generate_cycles as cyg\n",
    "import generate_spikes as sg\n",
    "import pandas as pd\n",
    "import ast\n",
    "import ipywidgets as ipy\n",
    "import numpy as np\n",
    "import aux"
   ]
  },
  {
   "cell_type": "code",
   "execution_count": 5,
   "id": "f2eccc2b",
   "metadata": {
    "ExecuteTime": {
     "end_time": "2023-11-13T21:48:45.929160Z",
     "start_time": "2023-11-13T21:48:45.908909Z"
    },
    "tags": [
     "remove-input"
    ]
   },
   "outputs": [
    {
     "name": "stdout",
     "output_type": "stream",
     "text": [
      "         type  mean  sd  time type_var1 type_var2  \\\n",
      "0      random   100   5   168      None      None   \n",
      "1      cycles   100   5   168     200.0       5.0   \n",
      "2  continuous     0   2   365    1000.0       2.0   \n",
      "3      cycles   200   5   168     300.0       5.0   \n",
      "4      random   200  10   210      None      None   \n",
      "5  continuous   200  20   365     200.0       1.5   \n",
      "6      spikes   100   5   168     200.0      0.02   \n",
      "7      spikes   100   5   210     200.0      0.05   \n",
      "8      spikes   100   5   365     200.0       0.2   \n",
      "\n",
      "                        type_var3             custom_dist  graph  id timeframe  \n",
      "0                            None  [[0.5, 0.9], [1, 0.1]]  False   1     daily  \n",
      "1                 [[100, 168, 0]]                    None  False   1   monthly  \n",
      "2                               1                    None  False   1    yearly  \n",
      "3  [[35, 42, 56], [154, 167, 21]]                    None  False   2     daily  \n",
      "4                            None                    None  False   2   monthly  \n",
      "5                        1.000001                    None  False   2    yearly  \n",
      "6                            None                    None  False   3     daily  \n",
      "7                            None                    None  False   3   monthly  \n",
      "8                            None                    None  False   3    yearly  \n"
     ]
    }
   ],
   "source": [
    "\"\"\"\n",
    "Reads in data from the given csv file and converts inputs meant to be lists into lists.\n",
    "Parameters:\n",
    "    csv(str): The name of a csv file.\n",
    "Returns:\n",
    "    graphs(pandas dataframe): A dataframe where each row contains specifications for a graph to be generated. \n",
    "\"\"\"\n",
    "def process_data(csv):\n",
    "    graphs = pd.read_csv(csv, na_values = \"None\")\n",
    "    graphs = graphs.replace(np.nan, None)\n",
    "    \n",
    "    #convert to lists where appropriate\n",
    "    for i in range(len(graphs[\"type_var3\"])):\n",
    "        lists = graphs[\"type_var3\"][i]\n",
    "        if lists:\n",
    "            #lists are input in the csv with spaces instead of commas so they aren't read as multiple columns\n",
    "            lists = lists.replace(\" \", \",\")\n",
    "            #use ast to translate this string to a Python list\n",
    "            custom_cycles = ast.literal_eval(lists)\n",
    "            #set the list as the new val at that space\n",
    "            graphs.at[i, \"type_var3\"] = custom_cycles\n",
    "            \n",
    "    #repeat above process for custom distributions, input in the same way\n",
    "    for i in range(len(graphs[\"custom_dist\"])):\n",
    "        dist = graphs[\"custom_dist\"][i]\n",
    "        if dist:\n",
    "            dist = dist.replace(\" \", \",\")\n",
    "            custom_dist = ast.literal_eval(dist)\n",
    "            graphs.at[i, \"custom_dist\"] = custom_dist\n",
    "            \n",
    "    return graphs\n",
    "\n",
    "graphs = process_data(\"graph_data.csv\")\n",
    "print(graphs)"
   ]
  },
  {
   "cell_type": "code",
   "execution_count": 6,
   "id": "b80bd096",
   "metadata": {
    "ExecuteTime": {
     "end_time": "2023-11-13T21:48:51.828082Z",
     "start_time": "2023-11-13T21:48:51.623706Z"
    },
    "tags": [
     "remove-input"
    ]
   },
   "outputs": [
    {
     "data": {
      "application/vnd.jupyter.widget-view+json": {
       "model_id": "2251d4e8e2f54becb665fa188d09a94a",
       "version_major": 2,
       "version_minor": 0
      },
      "text/plain": [
       "interactive(children=(Dropdown(description='id', options=(1, 2, 3), value=1), Dropdown(description='timeframe'…"
      ]
     },
     "metadata": {},
     "output_type": "display_data"
    },
    {
     "data": {
      "text/plain": [
       "<function __main__.run_simulation(id, timeframe)>"
      ]
     },
     "execution_count": 6,
     "metadata": {},
     "output_type": "execute_result"
    }
   ],
   "source": [
    "#a dictionary that stores run keys in the form \"id-timeframe\" to distributions, so that while each\n",
    "#session generates a new random distribution, switching between timeframes / problems does not\n",
    "hasRun = dict()\n",
    "\n",
    "\"\"\"\n",
    "Displays the graph with the input id and timeframe, or if that id and timeframe combination has been run before, \n",
    "uses the generated data for that combination.\n",
    "Note: every id and timeframe combination should be unique, e.g. there should not be two 'daily' graphs at problem 2.\n",
    "Parameters:\n",
    "    id(int): The number that corresponds to the problem/question that the graphs are presented in.\n",
    "    timeframe(str): The time over which the graph takes place. Valid inputs are 'daily', 'monthly', and 'yearly'.\n",
    "\"\"\"\n",
    "def run_simulation(id, timeframe):\n",
    "    #determine which row numbers contain a graph with the searched for id\n",
    "    sim_graphs = []\n",
    "    for row in range(len(graphs[\"id\"])):\n",
    "        if id == graphs[\"id\"][row]:\n",
    "            sim_graphs.append(row)\n",
    "    \n",
    "    #for each graph with that id\n",
    "    for row_id in sim_graphs:\n",
    "        #check if it is the proper timeframe\n",
    "        if timeframe == graphs['timeframe'][row_id]:\n",
    "            #create the run key to be checked in hasRun\n",
    "            runKey = (str(id) + \"-\" + timeframe)\n",
    "            #if hasRun.keys() contains the run key, then this id timeframe combo has been run before in this session.\n",
    "            if runKey in hasRun.keys():\n",
    "                #do not generate a new distribution. Simply plot the distribution stored. \n",
    "                requests_y = hasRun[runKey]\n",
    "                time_x = [i for i in range(graphs[\"time\"][row_id])]\n",
    "                aux.lim_plots(time_x, requests_y)\n",
    "            #if this combination has not been run\n",
    "            else:\n",
    "                #determine type and run the corresponding function\n",
    "                graph_type = graphs[\"type\"][row_id]\n",
    "                if graph_type == \"random\":\n",
    "                    requests_y = rg.generate_random(graphs[\"mean\"][row_id], graphs[\"sd\"][row_id], graphs[\"time\"][row_id], \n",
    "                                      graphs[\"custom_dist\"][row_id], graphs[\"graph\"][row_id])\n",
    "                elif graph_type == \"continuous\":\n",
    "                    requests_y = cog.generate_continuous(graphs[\"mean\"][row_id], graphs[\"sd\"][row_id], graphs[\"time\"][row_id], \n",
    "                                      int(graphs[\"type_var1\"][row_id]), int(graphs[\"type_var2\"][row_id]),\n",
    "                                            graphs[\"type_var3\"][row_id], graphs[\"custom_dist\"][row_id], \n",
    "                                            graphs[\"graph\"][row_id])\n",
    "                elif graph_type == \"cycles\":\n",
    "                    requests_y = cyg.cycles_gen(graphs[\"mean\"][row_id], graphs[\"sd\"][row_id], graphs[\"time\"][row_id], \n",
    "                                      graphs[\"type_var1\"][row_id], graphs[\"type_var2\"][row_id], \n",
    "                                        graphs[\"type_var3\"][row_id], graphs[\"custom_dist\"][row_id], \n",
    "                                       graphs[\"graph\"][row_id])\n",
    "                elif graph_type == \"spikes\":\n",
    "                    requests_y = sg.generate_spikes(graphs[\"mean\"][row_id], graphs[\"sd\"][row_id], graphs[\"time\"][row_id], \n",
    "                                      int(graphs[\"type_var1\"][row_id]), graphs[\"type_var2\"][row_id],\n",
    "                                            graphs[\"custom_dist\"][row_id], graphs[\"graph\"][row_id])\n",
    "                else:\n",
    "                    print(\"Error in CSV file: type at row \" + str(row_id) + \" is not a valid type.\")\n",
    "                    break\n",
    "                #then store that new list in hasRun with the run key.\n",
    "                time_x = [i for i in range(graphs[\"time\"][row_id])]\n",
    "                aux.lim_plots(time_x, requests_y)\n",
    "                hasRun[runKey] = requests_y\n",
    "\n",
    "#create interactable version of above function. \n",
    "ipy.interact(run_simulation, timeframe = ['daily', 'monthly','yearly'], id = [1,2,3])\n"
   ]
  },
  {
   "cell_type": "code",
   "execution_count": null,
   "id": "a32dc3cf",
   "metadata": {},
   "outputs": [],
   "source": []
  },
  {
   "cell_type": "code",
   "execution_count": null,
   "id": "6f7a4617-dd59-4eba-a0da-eb3deecbab2a",
   "metadata": {},
   "outputs": [],
   "source": []
  }
 ],
 "metadata": {
  "kernelspec": {
   "display_name": "Python 3 (ipykernel)",
   "language": "python",
   "name": "python3"
  },
  "language_info": {
   "codemirror_mode": {
    "name": "ipython",
    "version": 3
   },
   "file_extension": ".py",
   "mimetype": "text/x-python",
   "name": "python",
   "nbconvert_exporter": "python",
   "pygments_lexer": "ipython3",
   "version": "3.11.6"
  },
  "vscode": {
   "interpreter": {
    "hash": "aee8b7b246df8f9039afb4144a1f6fd8d2ca17a180786b69acc140d282b71a49"
   }
  }
 },
 "nbformat": 4,
 "nbformat_minor": 5
}
